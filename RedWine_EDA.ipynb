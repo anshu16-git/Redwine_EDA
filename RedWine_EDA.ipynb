{
  "nbformat": 4,
  "nbformat_minor": 0,
  "metadata": {
    "colab": {
      "name": "RedWine_EDA.ipynb",
      "provenance": []
    },
    "kernelspec": {
      "name": "python3",
      "display_name": "Python 3"
    },
    "language_info": {
      "name": "python"
    }
  },
  "cells": [
    {
      "cell_type": "code",
      "metadata": {
        "id": "I3sB9fCXp0WD"
      },
      "source": [
        "#import libraries\n",
        "import numpy as np\n",
        "import pandas as pd\n",
        "import warnings #ignore warnings\n",
        "warnings.filterwarnings('ignore')"
      ],
      "execution_count": 1,
      "outputs": []
    },
    {
      "cell_type": "code",
      "metadata": {
        "id": "94ylO6Rbr2yt"
      },
      "source": [
        "#Download the dataset\n",
        "red_wine_data = pd.read_csv('https://raw.githubusercontent.com/btkhimsar/DataSets/master/winequality-red.csv',sep=\";\")"
      ],
      "execution_count": 2,
      "outputs": []
    },
    {
      "cell_type": "code",
      "metadata": {
        "colab": {
          "base_uri": "https://localhost:8080/",
          "height": 204
        },
        "id": "LxGNyJOksFat",
        "outputId": "bf154948-0f18-467f-e41b-749f1339c02a"
      },
      "source": [
        "#Reading the data\n",
        "red_wine_data.head()"
      ],
      "execution_count": 3,
      "outputs": [
        {
          "output_type": "execute_result",
          "data": {
            "text/html": [
              "<div>\n",
              "<style scoped>\n",
              "    .dataframe tbody tr th:only-of-type {\n",
              "        vertical-align: middle;\n",
              "    }\n",
              "\n",
              "    .dataframe tbody tr th {\n",
              "        vertical-align: top;\n",
              "    }\n",
              "\n",
              "    .dataframe thead th {\n",
              "        text-align: right;\n",
              "    }\n",
              "</style>\n",
              "<table border=\"1\" class=\"dataframe\">\n",
              "  <thead>\n",
              "    <tr style=\"text-align: right;\">\n",
              "      <th></th>\n",
              "      <th>fixed acidity</th>\n",
              "      <th>volatile acidity</th>\n",
              "      <th>citric acid</th>\n",
              "      <th>residual sugar</th>\n",
              "      <th>chlorides</th>\n",
              "      <th>free sulfur dioxide</th>\n",
              "      <th>total sulfur dioxide</th>\n",
              "      <th>density</th>\n",
              "      <th>pH</th>\n",
              "      <th>sulphates</th>\n",
              "      <th>alcohol</th>\n",
              "      <th>quality</th>\n",
              "    </tr>\n",
              "  </thead>\n",
              "  <tbody>\n",
              "    <tr>\n",
              "      <th>0</th>\n",
              "      <td>7.4</td>\n",
              "      <td>0.70</td>\n",
              "      <td>0.00</td>\n",
              "      <td>1.9</td>\n",
              "      <td>0.076</td>\n",
              "      <td>11.0</td>\n",
              "      <td>34.0</td>\n",
              "      <td>0.9978</td>\n",
              "      <td>3.51</td>\n",
              "      <td>0.56</td>\n",
              "      <td>9.4</td>\n",
              "      <td>5</td>\n",
              "    </tr>\n",
              "    <tr>\n",
              "      <th>1</th>\n",
              "      <td>7.8</td>\n",
              "      <td>0.88</td>\n",
              "      <td>0.00</td>\n",
              "      <td>2.6</td>\n",
              "      <td>0.098</td>\n",
              "      <td>25.0</td>\n",
              "      <td>67.0</td>\n",
              "      <td>0.9968</td>\n",
              "      <td>3.20</td>\n",
              "      <td>0.68</td>\n",
              "      <td>9.8</td>\n",
              "      <td>5</td>\n",
              "    </tr>\n",
              "    <tr>\n",
              "      <th>2</th>\n",
              "      <td>7.8</td>\n",
              "      <td>0.76</td>\n",
              "      <td>0.04</td>\n",
              "      <td>2.3</td>\n",
              "      <td>0.092</td>\n",
              "      <td>15.0</td>\n",
              "      <td>54.0</td>\n",
              "      <td>0.9970</td>\n",
              "      <td>3.26</td>\n",
              "      <td>0.65</td>\n",
              "      <td>9.8</td>\n",
              "      <td>5</td>\n",
              "    </tr>\n",
              "    <tr>\n",
              "      <th>3</th>\n",
              "      <td>11.2</td>\n",
              "      <td>0.28</td>\n",
              "      <td>0.56</td>\n",
              "      <td>1.9</td>\n",
              "      <td>0.075</td>\n",
              "      <td>17.0</td>\n",
              "      <td>60.0</td>\n",
              "      <td>0.9980</td>\n",
              "      <td>3.16</td>\n",
              "      <td>0.58</td>\n",
              "      <td>9.8</td>\n",
              "      <td>6</td>\n",
              "    </tr>\n",
              "    <tr>\n",
              "      <th>4</th>\n",
              "      <td>7.4</td>\n",
              "      <td>0.70</td>\n",
              "      <td>0.00</td>\n",
              "      <td>1.9</td>\n",
              "      <td>0.076</td>\n",
              "      <td>11.0</td>\n",
              "      <td>34.0</td>\n",
              "      <td>0.9978</td>\n",
              "      <td>3.51</td>\n",
              "      <td>0.56</td>\n",
              "      <td>9.4</td>\n",
              "      <td>5</td>\n",
              "    </tr>\n",
              "  </tbody>\n",
              "</table>\n",
              "</div>"
            ],
            "text/plain": [
              "   fixed acidity  volatile acidity  citric acid  ...  sulphates  alcohol  quality\n",
              "0            7.4              0.70         0.00  ...       0.56      9.4        5\n",
              "1            7.8              0.88         0.00  ...       0.68      9.8        5\n",
              "2            7.8              0.76         0.04  ...       0.65      9.8        5\n",
              "3           11.2              0.28         0.56  ...       0.58      9.8        6\n",
              "4            7.4              0.70         0.00  ...       0.56      9.4        5\n",
              "\n",
              "[5 rows x 12 columns]"
            ]
          },
          "metadata": {
            "tags": []
          },
          "execution_count": 3
        }
      ]
    },
    {
      "cell_type": "code",
      "metadata": {
        "colab": {
          "base_uri": "https://localhost:8080/"
        },
        "id": "4_ivmweqsWPG",
        "outputId": "5c740ec2-3497-4bce-8e8a-23e62afbfa34"
      },
      "source": [
        "#knowing the dataset has howmuch columns and rows\n",
        "red_wine_data.shape"
      ],
      "execution_count": 4,
      "outputs": [
        {
          "output_type": "execute_result",
          "data": {
            "text/plain": [
              "(1599, 12)"
            ]
          },
          "metadata": {
            "tags": []
          },
          "execution_count": 4
        }
      ]
    },
    {
      "cell_type": "code",
      "metadata": {
        "colab": {
          "base_uri": "https://localhost:8080/",
          "height": 314
        },
        "id": "oqHbXYCusqoQ",
        "outputId": "b935d5f2-1db6-43b1-dfdd-e3134fe02df6"
      },
      "source": [
        "#Describing the data\n",
        "red_wine_data.describe()"
      ],
      "execution_count": 5,
      "outputs": [
        {
          "output_type": "execute_result",
          "data": {
            "text/html": [
              "<div>\n",
              "<style scoped>\n",
              "    .dataframe tbody tr th:only-of-type {\n",
              "        vertical-align: middle;\n",
              "    }\n",
              "\n",
              "    .dataframe tbody tr th {\n",
              "        vertical-align: top;\n",
              "    }\n",
              "\n",
              "    .dataframe thead th {\n",
              "        text-align: right;\n",
              "    }\n",
              "</style>\n",
              "<table border=\"1\" class=\"dataframe\">\n",
              "  <thead>\n",
              "    <tr style=\"text-align: right;\">\n",
              "      <th></th>\n",
              "      <th>fixed acidity</th>\n",
              "      <th>volatile acidity</th>\n",
              "      <th>citric acid</th>\n",
              "      <th>residual sugar</th>\n",
              "      <th>chlorides</th>\n",
              "      <th>free sulfur dioxide</th>\n",
              "      <th>total sulfur dioxide</th>\n",
              "      <th>density</th>\n",
              "      <th>pH</th>\n",
              "      <th>sulphates</th>\n",
              "      <th>alcohol</th>\n",
              "      <th>quality</th>\n",
              "    </tr>\n",
              "  </thead>\n",
              "  <tbody>\n",
              "    <tr>\n",
              "      <th>count</th>\n",
              "      <td>1599.000000</td>\n",
              "      <td>1599.000000</td>\n",
              "      <td>1599.000000</td>\n",
              "      <td>1599.000000</td>\n",
              "      <td>1599.000000</td>\n",
              "      <td>1599.000000</td>\n",
              "      <td>1599.000000</td>\n",
              "      <td>1599.000000</td>\n",
              "      <td>1599.000000</td>\n",
              "      <td>1599.000000</td>\n",
              "      <td>1599.000000</td>\n",
              "      <td>1599.000000</td>\n",
              "    </tr>\n",
              "    <tr>\n",
              "      <th>mean</th>\n",
              "      <td>8.319637</td>\n",
              "      <td>0.527821</td>\n",
              "      <td>0.270976</td>\n",
              "      <td>2.538806</td>\n",
              "      <td>0.087467</td>\n",
              "      <td>15.874922</td>\n",
              "      <td>46.467792</td>\n",
              "      <td>0.996747</td>\n",
              "      <td>3.311113</td>\n",
              "      <td>0.658149</td>\n",
              "      <td>10.422983</td>\n",
              "      <td>5.636023</td>\n",
              "    </tr>\n",
              "    <tr>\n",
              "      <th>std</th>\n",
              "      <td>1.741096</td>\n",
              "      <td>0.179060</td>\n",
              "      <td>0.194801</td>\n",
              "      <td>1.409928</td>\n",
              "      <td>0.047065</td>\n",
              "      <td>10.460157</td>\n",
              "      <td>32.895324</td>\n",
              "      <td>0.001887</td>\n",
              "      <td>0.154386</td>\n",
              "      <td>0.169507</td>\n",
              "      <td>1.065668</td>\n",
              "      <td>0.807569</td>\n",
              "    </tr>\n",
              "    <tr>\n",
              "      <th>min</th>\n",
              "      <td>4.600000</td>\n",
              "      <td>0.120000</td>\n",
              "      <td>0.000000</td>\n",
              "      <td>0.900000</td>\n",
              "      <td>0.012000</td>\n",
              "      <td>1.000000</td>\n",
              "      <td>6.000000</td>\n",
              "      <td>0.990070</td>\n",
              "      <td>2.740000</td>\n",
              "      <td>0.330000</td>\n",
              "      <td>8.400000</td>\n",
              "      <td>3.000000</td>\n",
              "    </tr>\n",
              "    <tr>\n",
              "      <th>25%</th>\n",
              "      <td>7.100000</td>\n",
              "      <td>0.390000</td>\n",
              "      <td>0.090000</td>\n",
              "      <td>1.900000</td>\n",
              "      <td>0.070000</td>\n",
              "      <td>7.000000</td>\n",
              "      <td>22.000000</td>\n",
              "      <td>0.995600</td>\n",
              "      <td>3.210000</td>\n",
              "      <td>0.550000</td>\n",
              "      <td>9.500000</td>\n",
              "      <td>5.000000</td>\n",
              "    </tr>\n",
              "    <tr>\n",
              "      <th>50%</th>\n",
              "      <td>7.900000</td>\n",
              "      <td>0.520000</td>\n",
              "      <td>0.260000</td>\n",
              "      <td>2.200000</td>\n",
              "      <td>0.079000</td>\n",
              "      <td>14.000000</td>\n",
              "      <td>38.000000</td>\n",
              "      <td>0.996750</td>\n",
              "      <td>3.310000</td>\n",
              "      <td>0.620000</td>\n",
              "      <td>10.200000</td>\n",
              "      <td>6.000000</td>\n",
              "    </tr>\n",
              "    <tr>\n",
              "      <th>75%</th>\n",
              "      <td>9.200000</td>\n",
              "      <td>0.640000</td>\n",
              "      <td>0.420000</td>\n",
              "      <td>2.600000</td>\n",
              "      <td>0.090000</td>\n",
              "      <td>21.000000</td>\n",
              "      <td>62.000000</td>\n",
              "      <td>0.997835</td>\n",
              "      <td>3.400000</td>\n",
              "      <td>0.730000</td>\n",
              "      <td>11.100000</td>\n",
              "      <td>6.000000</td>\n",
              "    </tr>\n",
              "    <tr>\n",
              "      <th>max</th>\n",
              "      <td>15.900000</td>\n",
              "      <td>1.580000</td>\n",
              "      <td>1.000000</td>\n",
              "      <td>15.500000</td>\n",
              "      <td>0.611000</td>\n",
              "      <td>72.000000</td>\n",
              "      <td>289.000000</td>\n",
              "      <td>1.003690</td>\n",
              "      <td>4.010000</td>\n",
              "      <td>2.000000</td>\n",
              "      <td>14.900000</td>\n",
              "      <td>8.000000</td>\n",
              "    </tr>\n",
              "  </tbody>\n",
              "</table>\n",
              "</div>"
            ],
            "text/plain": [
              "       fixed acidity  volatile acidity  ...      alcohol      quality\n",
              "count    1599.000000       1599.000000  ...  1599.000000  1599.000000\n",
              "mean        8.319637          0.527821  ...    10.422983     5.636023\n",
              "std         1.741096          0.179060  ...     1.065668     0.807569\n",
              "min         4.600000          0.120000  ...     8.400000     3.000000\n",
              "25%         7.100000          0.390000  ...     9.500000     5.000000\n",
              "50%         7.900000          0.520000  ...    10.200000     6.000000\n",
              "75%         9.200000          0.640000  ...    11.100000     6.000000\n",
              "max        15.900000          1.580000  ...    14.900000     8.000000\n",
              "\n",
              "[8 rows x 12 columns]"
            ]
          },
          "metadata": {
            "tags": []
          },
          "execution_count": 5
        }
      ]
    },
    {
      "cell_type": "code",
      "metadata": {
        "colab": {
          "base_uri": "https://localhost:8080/"
        },
        "id": "al7mC4O8tFvt",
        "outputId": "2b1879a2-7f51-4a91-97af-bb9b4afa6a39"
      },
      "source": [
        "red_wine_data.columns"
      ],
      "execution_count": 6,
      "outputs": [
        {
          "output_type": "execute_result",
          "data": {
            "text/plain": [
              "Index(['fixed acidity', 'volatile acidity', 'citric acid', 'residual sugar',\n",
              "       'chlorides', 'free sulfur dioxide', 'total sulfur dioxide', 'density',\n",
              "       'pH', 'sulphates', 'alcohol', 'quality'],\n",
              "      dtype='object')"
            ]
          },
          "metadata": {
            "tags": []
          },
          "execution_count": 6
        }
      ]
    },
    {
      "cell_type": "code",
      "metadata": {
        "colab": {
          "base_uri": "https://localhost:8080/"
        },
        "id": "MlkWvKfeta1l",
        "outputId": "858364bd-c4b5-4129-fb86-6522b09a1c62"
      },
      "source": [
        "#improving the dataset\n",
        "red_wine_data['quality'].unique()"
      ],
      "execution_count": 7,
      "outputs": [
        {
          "output_type": "execute_result",
          "data": {
            "text/plain": [
              "array([5, 6, 7, 4, 8, 3])"
            ]
          },
          "metadata": {
            "tags": []
          },
          "execution_count": 7
        }
      ]
    },
    {
      "cell_type": "code",
      "metadata": {
        "colab": {
          "base_uri": "https://localhost:8080/"
        },
        "id": "5seU14nluN88",
        "outputId": "ff406eea-bf9b-4200-8593-2343a7c8a41b"
      },
      "source": [
        "red_wine_data['quality'].value_counts()"
      ],
      "execution_count": 9,
      "outputs": [
        {
          "output_type": "execute_result",
          "data": {
            "text/plain": [
              "5    681\n",
              "6    638\n",
              "7    199\n",
              "4     53\n",
              "8     18\n",
              "3     10\n",
              "Name: quality, dtype: int64"
            ]
          },
          "metadata": {
            "tags": []
          },
          "execution_count": 9
        }
      ]
    },
    {
      "cell_type": "code",
      "metadata": {
        "colab": {
          "base_uri": "https://localhost:8080/",
          "height": 439
        },
        "id": "d5F8rVk-uUZa",
        "outputId": "5661d412-4b8a-4339-9db9-7b5065a03dc1"
      },
      "source": [
        "red_wine_data.rename(columns= {'fixed acidity':'fixed_acidity', 'volatile acidity':'volatile_acidity', 'citric acid':'citric_acid', 'residual sugar':'residual_sugar',\n",
        "      'free sulfur dioxide':'free_sulfur_dioxide', 'total sulfur dioxide':'total_sulfur_dioxide',})"
      ],
      "execution_count": 10,
      "outputs": [
        {
          "output_type": "execute_result",
          "data": {
            "text/html": [
              "<div>\n",
              "<style scoped>\n",
              "    .dataframe tbody tr th:only-of-type {\n",
              "        vertical-align: middle;\n",
              "    }\n",
              "\n",
              "    .dataframe tbody tr th {\n",
              "        vertical-align: top;\n",
              "    }\n",
              "\n",
              "    .dataframe thead th {\n",
              "        text-align: right;\n",
              "    }\n",
              "</style>\n",
              "<table border=\"1\" class=\"dataframe\">\n",
              "  <thead>\n",
              "    <tr style=\"text-align: right;\">\n",
              "      <th></th>\n",
              "      <th>fixed_acidity</th>\n",
              "      <th>volatile_acidity</th>\n",
              "      <th>citric_acid</th>\n",
              "      <th>residual_sugar</th>\n",
              "      <th>chlorides</th>\n",
              "      <th>free_sulfur_dioxide</th>\n",
              "      <th>total_sulfur_dioxide</th>\n",
              "      <th>density</th>\n",
              "      <th>pH</th>\n",
              "      <th>sulphates</th>\n",
              "      <th>alcohol</th>\n",
              "      <th>quality</th>\n",
              "    </tr>\n",
              "  </thead>\n",
              "  <tbody>\n",
              "    <tr>\n",
              "      <th>0</th>\n",
              "      <td>7.4</td>\n",
              "      <td>0.700</td>\n",
              "      <td>0.00</td>\n",
              "      <td>1.9</td>\n",
              "      <td>0.076</td>\n",
              "      <td>11.0</td>\n",
              "      <td>34.0</td>\n",
              "      <td>0.99780</td>\n",
              "      <td>3.51</td>\n",
              "      <td>0.56</td>\n",
              "      <td>9.4</td>\n",
              "      <td>5</td>\n",
              "    </tr>\n",
              "    <tr>\n",
              "      <th>1</th>\n",
              "      <td>7.8</td>\n",
              "      <td>0.880</td>\n",
              "      <td>0.00</td>\n",
              "      <td>2.6</td>\n",
              "      <td>0.098</td>\n",
              "      <td>25.0</td>\n",
              "      <td>67.0</td>\n",
              "      <td>0.99680</td>\n",
              "      <td>3.20</td>\n",
              "      <td>0.68</td>\n",
              "      <td>9.8</td>\n",
              "      <td>5</td>\n",
              "    </tr>\n",
              "    <tr>\n",
              "      <th>2</th>\n",
              "      <td>7.8</td>\n",
              "      <td>0.760</td>\n",
              "      <td>0.04</td>\n",
              "      <td>2.3</td>\n",
              "      <td>0.092</td>\n",
              "      <td>15.0</td>\n",
              "      <td>54.0</td>\n",
              "      <td>0.99700</td>\n",
              "      <td>3.26</td>\n",
              "      <td>0.65</td>\n",
              "      <td>9.8</td>\n",
              "      <td>5</td>\n",
              "    </tr>\n",
              "    <tr>\n",
              "      <th>3</th>\n",
              "      <td>11.2</td>\n",
              "      <td>0.280</td>\n",
              "      <td>0.56</td>\n",
              "      <td>1.9</td>\n",
              "      <td>0.075</td>\n",
              "      <td>17.0</td>\n",
              "      <td>60.0</td>\n",
              "      <td>0.99800</td>\n",
              "      <td>3.16</td>\n",
              "      <td>0.58</td>\n",
              "      <td>9.8</td>\n",
              "      <td>6</td>\n",
              "    </tr>\n",
              "    <tr>\n",
              "      <th>4</th>\n",
              "      <td>7.4</td>\n",
              "      <td>0.700</td>\n",
              "      <td>0.00</td>\n",
              "      <td>1.9</td>\n",
              "      <td>0.076</td>\n",
              "      <td>11.0</td>\n",
              "      <td>34.0</td>\n",
              "      <td>0.99780</td>\n",
              "      <td>3.51</td>\n",
              "      <td>0.56</td>\n",
              "      <td>9.4</td>\n",
              "      <td>5</td>\n",
              "    </tr>\n",
              "    <tr>\n",
              "      <th>...</th>\n",
              "      <td>...</td>\n",
              "      <td>...</td>\n",
              "      <td>...</td>\n",
              "      <td>...</td>\n",
              "      <td>...</td>\n",
              "      <td>...</td>\n",
              "      <td>...</td>\n",
              "      <td>...</td>\n",
              "      <td>...</td>\n",
              "      <td>...</td>\n",
              "      <td>...</td>\n",
              "      <td>...</td>\n",
              "    </tr>\n",
              "    <tr>\n",
              "      <th>1594</th>\n",
              "      <td>6.2</td>\n",
              "      <td>0.600</td>\n",
              "      <td>0.08</td>\n",
              "      <td>2.0</td>\n",
              "      <td>0.090</td>\n",
              "      <td>32.0</td>\n",
              "      <td>44.0</td>\n",
              "      <td>0.99490</td>\n",
              "      <td>3.45</td>\n",
              "      <td>0.58</td>\n",
              "      <td>10.5</td>\n",
              "      <td>5</td>\n",
              "    </tr>\n",
              "    <tr>\n",
              "      <th>1595</th>\n",
              "      <td>5.9</td>\n",
              "      <td>0.550</td>\n",
              "      <td>0.10</td>\n",
              "      <td>2.2</td>\n",
              "      <td>0.062</td>\n",
              "      <td>39.0</td>\n",
              "      <td>51.0</td>\n",
              "      <td>0.99512</td>\n",
              "      <td>3.52</td>\n",
              "      <td>0.76</td>\n",
              "      <td>11.2</td>\n",
              "      <td>6</td>\n",
              "    </tr>\n",
              "    <tr>\n",
              "      <th>1596</th>\n",
              "      <td>6.3</td>\n",
              "      <td>0.510</td>\n",
              "      <td>0.13</td>\n",
              "      <td>2.3</td>\n",
              "      <td>0.076</td>\n",
              "      <td>29.0</td>\n",
              "      <td>40.0</td>\n",
              "      <td>0.99574</td>\n",
              "      <td>3.42</td>\n",
              "      <td>0.75</td>\n",
              "      <td>11.0</td>\n",
              "      <td>6</td>\n",
              "    </tr>\n",
              "    <tr>\n",
              "      <th>1597</th>\n",
              "      <td>5.9</td>\n",
              "      <td>0.645</td>\n",
              "      <td>0.12</td>\n",
              "      <td>2.0</td>\n",
              "      <td>0.075</td>\n",
              "      <td>32.0</td>\n",
              "      <td>44.0</td>\n",
              "      <td>0.99547</td>\n",
              "      <td>3.57</td>\n",
              "      <td>0.71</td>\n",
              "      <td>10.2</td>\n",
              "      <td>5</td>\n",
              "    </tr>\n",
              "    <tr>\n",
              "      <th>1598</th>\n",
              "      <td>6.0</td>\n",
              "      <td>0.310</td>\n",
              "      <td>0.47</td>\n",
              "      <td>3.6</td>\n",
              "      <td>0.067</td>\n",
              "      <td>18.0</td>\n",
              "      <td>42.0</td>\n",
              "      <td>0.99549</td>\n",
              "      <td>3.39</td>\n",
              "      <td>0.66</td>\n",
              "      <td>11.0</td>\n",
              "      <td>6</td>\n",
              "    </tr>\n",
              "  </tbody>\n",
              "</table>\n",
              "<p>1599 rows × 12 columns</p>\n",
              "</div>"
            ],
            "text/plain": [
              "      fixed_acidity  volatile_acidity  citric_acid  ...  sulphates  alcohol  quality\n",
              "0               7.4             0.700         0.00  ...       0.56      9.4        5\n",
              "1               7.8             0.880         0.00  ...       0.68      9.8        5\n",
              "2               7.8             0.760         0.04  ...       0.65      9.8        5\n",
              "3              11.2             0.280         0.56  ...       0.58      9.8        6\n",
              "4               7.4             0.700         0.00  ...       0.56      9.4        5\n",
              "...             ...               ...          ...  ...        ...      ...      ...\n",
              "1594            6.2             0.600         0.08  ...       0.58     10.5        5\n",
              "1595            5.9             0.550         0.10  ...       0.76     11.2        6\n",
              "1596            6.3             0.510         0.13  ...       0.75     11.0        6\n",
              "1597            5.9             0.645         0.12  ...       0.71     10.2        5\n",
              "1598            6.0             0.310         0.47  ...       0.66     11.0        6\n",
              "\n",
              "[1599 rows x 12 columns]"
            ]
          },
          "metadata": {
            "tags": []
          },
          "execution_count": 10
        }
      ]
    },
    {
      "cell_type": "code",
      "metadata": {
        "colab": {
          "base_uri": "https://localhost:8080/"
        },
        "id": "FhZd0Fx5ujvJ",
        "outputId": "92915a19-5cbe-4f8b-af08-2247a009f088"
      },
      "source": [
        "red_wine_data.info()"
      ],
      "execution_count": 11,
      "outputs": [
        {
          "output_type": "stream",
          "text": [
            "<class 'pandas.core.frame.DataFrame'>\n",
            "RangeIndex: 1599 entries, 0 to 1598\n",
            "Data columns (total 12 columns):\n",
            " #   Column                Non-Null Count  Dtype  \n",
            "---  ------                --------------  -----  \n",
            " 0   fixed acidity         1599 non-null   float64\n",
            " 1   volatile acidity      1599 non-null   float64\n",
            " 2   citric acid           1599 non-null   float64\n",
            " 3   residual sugar        1599 non-null   float64\n",
            " 4   chlorides             1599 non-null   float64\n",
            " 5   free sulfur dioxide   1599 non-null   float64\n",
            " 6   total sulfur dioxide  1599 non-null   float64\n",
            " 7   density               1599 non-null   float64\n",
            " 8   pH                    1599 non-null   float64\n",
            " 9   sulphates             1599 non-null   float64\n",
            " 10  alcohol               1599 non-null   float64\n",
            " 11  quality               1599 non-null   int64  \n",
            "dtypes: float64(11), int64(1)\n",
            "memory usage: 150.0 KB\n"
          ],
          "name": "stdout"
        }
      ]
    },
    {
      "cell_type": "code",
      "metadata": {
        "colab": {
          "base_uri": "https://localhost:8080/"
        },
        "id": "HtR31NLjt50l",
        "outputId": "f5df1854-cf42-4e2c-bd60-4a4a14f6a8e9"
      },
      "source": [
        "red_wine_data.info()"
      ],
      "execution_count": 12,
      "outputs": [
        {
          "output_type": "stream",
          "text": [
            "<class 'pandas.core.frame.DataFrame'>\n",
            "RangeIndex: 1599 entries, 0 to 1598\n",
            "Data columns (total 12 columns):\n",
            " #   Column                Non-Null Count  Dtype  \n",
            "---  ------                --------------  -----  \n",
            " 0   fixed acidity         1599 non-null   float64\n",
            " 1   volatile acidity      1599 non-null   float64\n",
            " 2   citric acid           1599 non-null   float64\n",
            " 3   residual sugar        1599 non-null   float64\n",
            " 4   chlorides             1599 non-null   float64\n",
            " 5   free sulfur dioxide   1599 non-null   float64\n",
            " 6   total sulfur dioxide  1599 non-null   float64\n",
            " 7   density               1599 non-null   float64\n",
            " 8   pH                    1599 non-null   float64\n",
            " 9   sulphates             1599 non-null   float64\n",
            " 10  alcohol               1599 non-null   float64\n",
            " 11  quality               1599 non-null   int64  \n",
            "dtypes: float64(11), int64(1)\n",
            "memory usage: 150.0 KB\n"
          ],
          "name": "stdout"
        }
      ]
    },
    {
      "cell_type": "code",
      "metadata": {
        "id": "EqkgLwcovGLB"
      },
      "source": [
        "#Training,Testing the data\n",
        "import matplotlib.pyplot as plt\n",
        "import seaborn as sns\n",
        "y = red_wine_data['quality']\n",
        "X = red_wine_data.drop(red_wine_data['quality'],inplace= True)"
      ],
      "execution_count": 14,
      "outputs": []
    },
    {
      "cell_type": "code",
      "metadata": {
        "colab": {
          "base_uri": "https://localhost:8080/",
          "height": 716
        },
        "id": "1Vgr2NJ7voRJ",
        "outputId": "0a5cc8fd-d2a8-42b4-d2c6-1e1487c2dd7a"
      },
      "source": [
        "red_wine_data.hist(bins=10,figsize=(16,12))\n",
        "plt.show()"
      ],
      "execution_count": 15,
      "outputs": [
        {
          "output_type": "display_data",
          "data": {
            "image/png": "[encoded data removed]",
            "text/plain": [
              "<Figure size 1152x864 with 12 Axes>"
            ]
          },
          "metadata": {
            "tags": [],
            "needs_background": "light"
          }
        }
      ]
    },
    {
      "cell_type": "code",
      "metadata": {
        "colab": {
          "base_uri": "https://localhost:8080/",
          "height": 472
        },
        "id": "sHvLxWi8v1oE",
        "outputId": "e00b45fa-88ff-44cb-dd36-587a055acfc7"
      },
      "source": [
        "red_wine_data.corr()"
      ],
      "execution_count": 16,
      "outputs": [
        {
          "output_type": "execute_result",
          "data": {
            "text/html": [
              "<div>\n",
              "<style scoped>\n",
              "    .dataframe tbody tr th:only-of-type {\n",
              "        vertical-align: middle;\n",
              "    }\n",
              "\n",
              "    .dataframe tbody tr th {\n",
              "        vertical-align: top;\n",
              "    }\n",
              "\n",
              "    .dataframe thead th {\n",
              "        text-align: right;\n",
              "    }\n",
              "</style>\n",
              "<table border=\"1\" class=\"dataframe\">\n",
              "  <thead>\n",
              "    <tr style=\"text-align: right;\">\n",
              "      <th></th>\n",
              "      <th>fixed acidity</th>\n",
              "      <th>volatile acidity</th>\n",
              "      <th>citric acid</th>\n",
              "      <th>residual sugar</th>\n",
              "      <th>chlorides</th>\n",
              "      <th>free sulfur dioxide</th>\n",
              "      <th>total sulfur dioxide</th>\n",
              "      <th>density</th>\n",
              "      <th>pH</th>\n",
              "      <th>sulphates</th>\n",
              "      <th>alcohol</th>\n",
              "      <th>quality</th>\n",
              "    </tr>\n",
              "  </thead>\n",
              "  <tbody>\n",
              "    <tr>\n",
              "      <th>fixed acidity</th>\n",
              "      <td>1.000000</td>\n",
              "      <td>-0.254398</td>\n",
              "      <td>0.671410</td>\n",
              "      <td>0.114616</td>\n",
              "      <td>0.093650</td>\n",
              "      <td>-0.154536</td>\n",
              "      <td>-0.114387</td>\n",
              "      <td>0.668582</td>\n",
              "      <td>-0.682678</td>\n",
              "      <td>0.182851</td>\n",
              "      <td>-0.062303</td>\n",
              "      <td>0.124330</td>\n",
              "    </tr>\n",
              "    <tr>\n",
              "      <th>volatile acidity</th>\n",
              "      <td>-0.254398</td>\n",
              "      <td>1.000000</td>\n",
              "      <td>-0.551206</td>\n",
              "      <td>0.002691</td>\n",
              "      <td>0.061790</td>\n",
              "      <td>-0.009841</td>\n",
              "      <td>0.077683</td>\n",
              "      <td>0.022580</td>\n",
              "      <td>0.233098</td>\n",
              "      <td>-0.260545</td>\n",
              "      <td>-0.201714</td>\n",
              "      <td>-0.391616</td>\n",
              "    </tr>\n",
              "    <tr>\n",
              "      <th>citric acid</th>\n",
              "      <td>0.671410</td>\n",
              "      <td>-0.551206</td>\n",
              "      <td>1.000000</td>\n",
              "      <td>0.142135</td>\n",
              "      <td>0.203428</td>\n",
              "      <td>-0.062613</td>\n",
              "      <td>0.033668</td>\n",
              "      <td>0.365729</td>\n",
              "      <td>-0.540720</td>\n",
              "      <td>0.311429</td>\n",
              "      <td>0.107572</td>\n",
              "      <td>0.228214</td>\n",
              "    </tr>\n",
              "    <tr>\n",
              "      <th>residual sugar</th>\n",
              "      <td>0.114616</td>\n",
              "      <td>0.002691</td>\n",
              "      <td>0.142135</td>\n",
              "      <td>1.000000</td>\n",
              "      <td>0.054904</td>\n",
              "      <td>0.186785</td>\n",
              "      <td>0.202718</td>\n",
              "      <td>0.355577</td>\n",
              "      <td>-0.084971</td>\n",
              "      <td>0.003772</td>\n",
              "      <td>0.040552</td>\n",
              "      <td>0.014504</td>\n",
              "    </tr>\n",
              "    <tr>\n",
              "      <th>chlorides</th>\n",
              "      <td>0.093650</td>\n",
              "      <td>0.061790</td>\n",
              "      <td>0.203428</td>\n",
              "      <td>0.054904</td>\n",
              "      <td>1.000000</td>\n",
              "      <td>0.005293</td>\n",
              "      <td>0.047110</td>\n",
              "      <td>0.200734</td>\n",
              "      <td>-0.265023</td>\n",
              "      <td>0.370793</td>\n",
              "      <td>-0.222395</td>\n",
              "      <td>-0.128786</td>\n",
              "    </tr>\n",
              "    <tr>\n",
              "      <th>free sulfur dioxide</th>\n",
              "      <td>-0.154536</td>\n",
              "      <td>-0.009841</td>\n",
              "      <td>-0.062613</td>\n",
              "      <td>0.186785</td>\n",
              "      <td>0.005293</td>\n",
              "      <td>1.000000</td>\n",
              "      <td>0.667660</td>\n",
              "      <td>-0.021810</td>\n",
              "      <td>0.071316</td>\n",
              "      <td>0.051157</td>\n",
              "      <td>-0.070349</td>\n",
              "      <td>-0.050443</td>\n",
              "    </tr>\n",
              "    <tr>\n",
              "      <th>total sulfur dioxide</th>\n",
              "      <td>-0.114387</td>\n",
              "      <td>0.077683</td>\n",
              "      <td>0.033668</td>\n",
              "      <td>0.202718</td>\n",
              "      <td>0.047110</td>\n",
              "      <td>0.667660</td>\n",
              "      <td>1.000000</td>\n",
              "      <td>0.070902</td>\n",
              "      <td>-0.065474</td>\n",
              "      <td>0.042388</td>\n",
              "      <td>-0.206664</td>\n",
              "      <td>-0.184133</td>\n",
              "    </tr>\n",
              "    <tr>\n",
              "      <th>density</th>\n",
              "      <td>0.668582</td>\n",
              "      <td>0.022580</td>\n",
              "      <td>0.365729</td>\n",
              "      <td>0.355577</td>\n",
              "      <td>0.200734</td>\n",
              "      <td>-0.021810</td>\n",
              "      <td>0.070902</td>\n",
              "      <td>1.000000</td>\n",
              "      <td>-0.342598</td>\n",
              "      <td>0.148474</td>\n",
              "      <td>-0.496641</td>\n",
              "      <td>-0.174029</td>\n",
              "    </tr>\n",
              "    <tr>\n",
              "      <th>pH</th>\n",
              "      <td>-0.682678</td>\n",
              "      <td>0.233098</td>\n",
              "      <td>-0.540720</td>\n",
              "      <td>-0.084971</td>\n",
              "      <td>-0.265023</td>\n",
              "      <td>0.071316</td>\n",
              "      <td>-0.065474</td>\n",
              "      <td>-0.342598</td>\n",
              "      <td>1.000000</td>\n",
              "      <td>-0.196103</td>\n",
              "      <td>0.207645</td>\n",
              "      <td>-0.057320</td>\n",
              "    </tr>\n",
              "    <tr>\n",
              "      <th>sulphates</th>\n",
              "      <td>0.182851</td>\n",
              "      <td>-0.260545</td>\n",
              "      <td>0.311429</td>\n",
              "      <td>0.003772</td>\n",
              "      <td>0.370793</td>\n",
              "      <td>0.051157</td>\n",
              "      <td>0.042388</td>\n",
              "      <td>0.148474</td>\n",
              "      <td>-0.196103</td>\n",
              "      <td>1.000000</td>\n",
              "      <td>0.091686</td>\n",
              "      <td>0.253019</td>\n",
              "    </tr>\n",
              "    <tr>\n",
              "      <th>alcohol</th>\n",
              "      <td>-0.062303</td>\n",
              "      <td>-0.201714</td>\n",
              "      <td>0.107572</td>\n",
              "      <td>0.040552</td>\n",
              "      <td>-0.222395</td>\n",
              "      <td>-0.070349</td>\n",
              "      <td>-0.206664</td>\n",
              "      <td>-0.496641</td>\n",
              "      <td>0.207645</td>\n",
              "      <td>0.091686</td>\n",
              "      <td>1.000000</td>\n",
              "      <td>0.478015</td>\n",
              "    </tr>\n",
              "    <tr>\n",
              "      <th>quality</th>\n",
              "      <td>0.124330</td>\n",
              "      <td>-0.391616</td>\n",
              "      <td>0.228214</td>\n",
              "      <td>0.014504</td>\n",
              "      <td>-0.128786</td>\n",
              "      <td>-0.050443</td>\n",
              "      <td>-0.184133</td>\n",
              "      <td>-0.174029</td>\n",
              "      <td>-0.057320</td>\n",
              "      <td>0.253019</td>\n",
              "      <td>0.478015</td>\n",
              "      <td>1.000000</td>\n",
              "    </tr>\n",
              "  </tbody>\n",
              "</table>\n",
              "</div>"
            ],
            "text/plain": [
              "                      fixed acidity  volatile acidity  ...   alcohol   quality\n",
              "fixed acidity              1.000000         -0.254398  ... -0.062303  0.124330\n",
              "volatile acidity          -0.254398          1.000000  ... -0.201714 -0.391616\n",
              "citric acid                0.671410         -0.551206  ...  0.107572  0.228214\n",
              "residual sugar             0.114616          0.002691  ...  0.040552  0.014504\n",
              "chlorides                  0.093650          0.061790  ... -0.222395 -0.128786\n",
              "free sulfur dioxide       -0.154536         -0.009841  ... -0.070349 -0.050443\n",
              "total sulfur dioxide      -0.114387          0.077683  ... -0.206664 -0.184133\n",
              "density                    0.668582          0.022580  ... -0.496641 -0.174029\n",
              "pH                        -0.682678          0.233098  ...  0.207645 -0.057320\n",
              "sulphates                  0.182851         -0.260545  ...  0.091686  0.253019\n",
              "alcohol                   -0.062303         -0.201714  ...  1.000000  0.478015\n",
              "quality                    0.124330         -0.391616  ...  0.478015  1.000000\n",
              "\n",
              "[12 rows x 12 columns]"
            ]
          },
          "metadata": {
            "tags": []
          },
          "execution_count": 16
        }
      ]
    },
    {
      "cell_type": "code",
      "metadata": {
        "colab": {
          "base_uri": "https://localhost:8080/",
          "height": 805
        },
        "id": "5okdDA5PwVSx",
        "outputId": "4089687d-9845-4033-98c5-c62d919b1a70"
      },
      "source": [
        "plt.figure(figsize=(16,12))\n",
        "sns.heatmap(red_wine_data.corr(),cmap='bwr',annot=True)"
      ],
      "execution_count": 17,
      "outputs": [
        {
          "output_type": "execute_result",
          "data": {
            "text/plain": [
              "<matplotlib.axes._subplots.AxesSubplot at 0x7fd2b5373290>"
            ]
          },
          "metadata": {
            "tags": []
          },
          "execution_count": 17
        },
        {
          "output_type": "display_data",
          "data": {
            "image/png": "[encoded data removed]",
            "text/plain": [
              "<Figure size 1152x864 with 2 Axes>"
            ]
          },
          "metadata": {
            "tags": [],
            "needs_background": "light"
          }
        }
      ]
    },
    {
      "cell_type": "code",
      "metadata": {
        "colab": {
          "base_uri": "https://localhost:8080/",
          "height": 407
        },
        "id": "Ovzbq0mEwbGw",
        "outputId": "45c7c49f-1868-4bf3-c026-06821f8f8053"
      },
      "source": [
        "#Grouping the wine based on grade\n",
        "# Defining 'grade' of wine\n",
        "\n",
        "#Good wine\n",
        "red_wine_data['grade'] = 1 \n",
        "\n",
        "#Bad wine\n",
        "red_wine_data.grade[red_wine_data.quality < 6.5] = 0 \n",
        "\n",
        "#sns.set(style=\"whitegrid\")\n",
        "#p = sns.countplot(data=red_wine_data, x='grade', palette='muted')\n",
        "\n",
        "#set plotsize and colors\n",
        "plt.figure(figsize = (6,6))\n",
        "colors = ['lightcoral', 'rosybrown']\n",
        "\n",
        "labels = red_wine_data.grade.value_counts().index\n",
        "plt.pie(red_wine_data.grade.value_counts(), autopct='%1.1f%%',colors=colors)\n",
        "plt.legend(labels, loc=\"Best\")\n",
        "plt.axis('equal')\n",
        "plt.title('Red Wine Quality Distribution')\n",
        "plt.show()\n",
        "#Show mean quality of red wine and quality distribution\n",
        "\n",
        "print('The amount of good quality red wine is ',round(red_wine_data.grade.value_counts(normalize=True)[1]*100,1),'%.')\n",
        "print(\"mean red wine quality = \",red_wine_data[\"quality\"].mean())"
      ],
      "execution_count": 20,
      "outputs": [
        {
          "output_type": "display_data",
          "data": {
            "image/png": "[encoded data removed]",
            "text/plain": [
              "<Figure size 432x432 with 1 Axes>"
            ]
          },
          "metadata": {
            "tags": []
          }
        },
        {
          "output_type": "stream",
          "text": [
            "The amount of good quality red wine is  13.5 %.\n",
            "mean red wine quality =  5.635279347143754\n"
          ],
          "name": "stdout"
        }
      ]
    },
    {
      "cell_type": "code",
      "metadata": {
        "colab": {
          "base_uri": "https://localhost:8080/",
          "height": 388
        },
        "id": "0ai1_Un0y9On",
        "outputId": "678a46fb-5931-4a48-952b-8d30f11a427f"
      },
      "source": [
        "# plot to see how pH is varying in the grade of red wine\n",
        "\n",
        "plt.figure(figsize=(6,6))\n",
        "ax = sns.lineplot(x=\"pH\", y=\"quality\", hue=\"grade\", data=red_wine_data,markers=True)"
      ],
      "execution_count": 21,
      "outputs": [
        {
          "output_type": "display_data",
          "data": {
            "image/png": "[encoded data removed]",
            "text/plain": [
              "<Figure size 432x432 with 1 Axes>"
            ]
          },
          "metadata": {
            "tags": [],
            "needs_background": "light"
          }
        }
      ]
    },
    {
      "cell_type": "code",
      "metadata": {
        "colab": {
          "base_uri": "https://localhost:8080/"
        },
        "id": "jeiIfT0ezeMJ",
        "outputId": "eb583e82-815a-4aa1-8a9a-b39773b02c14"
      },
      "source": [
        "red_wine_data['grade'].value_counts() #prints counts of good and bad red wine"
      ],
      "execution_count": 38,
      "outputs": [
        {
          "output_type": "execute_result",
          "data": {
            "text/plain": [
              "0    1378\n",
              "1     215\n",
              "Name: grade, dtype: int64"
            ]
          },
          "metadata": {
            "tags": []
          },
          "execution_count": 38
        }
      ]
    },
    {
      "cell_type": "code",
      "metadata": {
        "id": "YrUQJiTOzg3G"
      },
      "source": [
        "#Now, Predicting White Wine Quality using:Random Forest Classifier,Gaussian Naive Bayes Classifier,Decision Tree Classifier,KNeighbors Classifier,SVM Classifier\n",
        "#Checking once more for column names\n",
        "red_wine_data.columns\n",
        "#Defining X and y\n",
        "X = red_wine_data.drop(['quality'], axis=1)\n",
        "y = red_wine_data['quality']"
      ],
      "execution_count": 24,
      "outputs": []
    },
    {
      "cell_type": "code",
      "metadata": {
        "colab": {
          "base_uri": "https://localhost:8080/"
        },
        "id": "Fzx94SPw0gOV",
        "outputId": "ee93dfb7-5f18-4f85-c358-4f328f435001"
      },
      "source": [
        "# creating dataset split for prediction\n",
        "from sklearn.model_selection import train_test_split\n",
        "X_train, X_test , y_train , y_test = train_test_split(X,y,test_size=0.2,random_state=42) # 80-20 split\n",
        "\n",
        "# Checking split \n",
        "print('X_train:', X_train.shape)\n",
        "print('y_train:', y_train.shape)\n",
        "print('X_test:', X_test.shape)\n",
        "print('y_test:', y_test.shape)"
      ],
      "execution_count": 25,
      "outputs": [
        {
          "output_type": "stream",
          "text": [
            "X_train: (1274, 12)\n",
            "y_train: (1274,)\n",
            "X_test: (319, 12)\n",
            "y_test: (319,)\n"
          ],
          "name": "stdout"
        }
      ]
    },
    {
      "cell_type": "code",
      "metadata": {
        "id": "84XA7i6nHIWh",
        "colab": {
          "base_uri": "https://localhost:8080/"
        },
        "outputId": "f172ffdd-5c68-4362-8535-ffb4c895c63c"
      },
      "source": [
        "# 1. Using Random Forest Classifier\n",
        "\n",
        "# Load random forest classifier \n",
        "from sklearn.ensemble import RandomForestClassifier\n",
        "\n",
        "# Create a random forest Classifier\n",
        "clf = RandomForestClassifier(n_jobs=2, random_state=0)\n",
        "\n",
        "# Train the Classifier/fitting the model\n",
        "clf.fit(X_train, y_train)\n",
        "\n",
        "# predict the response\n",
        "y_pred = clf.predict(X_test)\n",
        "acc_rf = round(clf.score(X_test,y_test) * 100, 2)\n",
        "#Import scikit-learn metrics module for accuracy calculation\n",
        "from sklearn import metrics\n",
        "\n",
        "# evaluate accuracy\n",
        "print(\"Random Forest Classifier Accuracy:\",metrics.accuracy_score(y_test, y_pred)*100,\"%\")"
      ],
      "execution_count": 26,
      "outputs": [
        {
          "output_type": "stream",
          "text": [
            "Random Forest Classifier Accuracy: 74.92163009404389 %\n"
          ],
          "name": "stdout"
        }
      ]
    },
    {
      "cell_type": "code",
      "metadata": {
        "id": "nKczqh73HS7B",
        "colab": {
          "base_uri": "https://localhost:8080/"
        },
        "outputId": "c37c085b-cee3-48fa-e4f9-b50c743d85cd"
      },
      "source": [
        "#2. Gaussian Naive Bayes Classifier\n",
        "\n",
        "#Import Gaussian Naive Bayes model\n",
        "from sklearn.naive_bayes import GaussianNB\n",
        "\n",
        "#Create a Gaussian Classifier\n",
        "gnb = GaussianNB()\n",
        "\n",
        "# Train the Classifier/fitting the model\n",
        "gnb.fit(X_train, y_train)\n",
        "\n",
        "# predict the response\n",
        "y_pred = gnb.predict(X_test)\n",
        "acc_gnb = round(gnb.score(X_test,y_test) * 100, 2)\n",
        "\n",
        "#Import scikit-learn metrics module for accuracy calculation\n",
        "from sklearn import metrics\n",
        "\n",
        "# evaluate accuracy\n",
        "print(\"Naive Bayes Accuracy:\",metrics.accuracy_score(y_test, y_pred)*100,\"%\")"
      ],
      "execution_count": 27,
      "outputs": [
        {
          "output_type": "stream",
          "text": [
            "Naive Bayes Accuracy: 71.15987460815047 %\n"
          ],
          "name": "stdout"
        }
      ]
    },
    {
      "cell_type": "code",
      "metadata": {
        "id": "S_yquiB5HaWZ",
        "colab": {
          "base_uri": "https://localhost:8080/"
        },
        "outputId": "5f50fc76-69ca-4724-a8ff-3c35cf32d286"
      },
      "source": [
        "#import Decision Tree Classifier\n",
        "from sklearn.tree import DecisionTreeClassifier\n",
        "from sklearn import tree\n",
        "\n",
        "# Create Decision Tree classifer object\n",
        "clf = DecisionTreeClassifier(max_depth=10)\n",
        "\n",
        "# Train the Classifier/fitting the model\n",
        "clf = clf.fit(X_train,y_train)\n",
        "\n",
        "# predict the response\n",
        "y_pred = clf.predict(X_test)\n",
        "acc_dt = round(clf.score(X_test,y_test) * 100, 2)\n",
        "#Import scikit-learn metrics module for accuracy calculation\n",
        "from sklearn.metrics import accuracy_score \n",
        "\n",
        "# evaluate accuracy\n",
        "print (\"Decision Tree Accuracy:\", metrics.accuracy_score(y_test, y_pred)*100,\"%\")"
      ],
      "execution_count": 29,
      "outputs": [
        {
          "output_type": "stream",
          "text": [
            "Decision Tree Accuracy: 68.3385579937304 %\n"
          ],
          "name": "stdout"
        }
      ]
    },
    {
      "cell_type": "code",
      "metadata": {
        "id": "JlVYOfiIHepF",
        "colab": {
          "base_uri": "https://localhost:8080/"
        },
        "outputId": "7706873a-5070-4e66-8a68-e6f9617164c9"
      },
      "source": [
        "#kNN\n",
        "import sys, os\n",
        "\n",
        "# Import kNN classifier\n",
        "from sklearn.neighbors import KNeighborsClassifier\n",
        "\n",
        "# instantiate learning model (k = 3)\n",
        "knn = KNeighborsClassifier(n_neighbors=3)\n",
        "\n",
        "# Train the Classifier/fitting the model\n",
        "knn.fit(X_train, y_train)\n",
        "\n",
        "# predict the response\n",
        "y_pred = knn.predict(X_test)\n",
        "acc_knn = round(knn.score(X_test,y_test) * 100, 2)\n",
        "#Import scikit-learn metrics module for accuracy calculation\n",
        "from sklearn import metrics\n",
        "\n",
        "# evaluate accuracy\n",
        "print(\"kNN Accuracy:\",metrics.accuracy_score(y_test, y_pred)*100,\"%\")"
      ],
      "execution_count": 30,
      "outputs": [
        {
          "output_type": "stream",
          "text": [
            "kNN Accuracy: 52.03761755485894 %\n"
          ],
          "name": "stdout"
        }
      ]
    },
    {
      "cell_type": "code",
      "metadata": {
        "id": "x1YUQ055HkMj",
        "colab": {
          "base_uri": "https://localhost:8080/"
        },
        "outputId": "10005772-e3c3-46c1-aeae-edf81fcfc5f8"
      },
      "source": [
        "#Support Vector Machines trial\n",
        "import sys, os\n",
        "\n",
        "#Import svm model\n",
        "from sklearn import svm\n",
        "from sklearn.svm import SVC\n",
        "\n",
        "#Create a svm Classifier\n",
        "clf = SVC(C=1, kernel='rbf')\n",
        "\n",
        "# Train the Classifier/fitting the model\n",
        "clf.fit(X_train, y_train)\n",
        "\n",
        "# predict the response\n",
        "y_pred = clf.predict(X_test)\n",
        "acc_svm = round(clf.score(X_test,y_test) * 100, 2)\n",
        "\n",
        "# evaluate accuracy\n",
        "print(\"SVM Accuracy:\",metrics.accuracy_score(y_test, y_pred)*100,\"%\")"
      ],
      "execution_count": 31,
      "outputs": [
        {
          "output_type": "stream",
          "text": [
            "SVM Accuracy: 49.843260188087775 %\n"
          ],
          "name": "stdout"
        }
      ]
    },
    {
      "cell_type": "code",
      "metadata": {
        "id": "GZXt_sZ4HotR",
        "colab": {
          "base_uri": "https://localhost:8080/",
          "height": 346
        },
        "outputId": "4fadbc0c-6da4-47aa-f2d1-22039dfd31f2"
      },
      "source": [
        "# visualizing accuracies for all ML Algorithms using Matplotlib\n",
        "predictors_group = ('Random Forest', 'GaussianNB', 'DecisionTree','kNN','SVM')\n",
        "x_pos = np.arange(len(predictors_group))\n",
        "accuracies1 = [acc_rf, acc_gnb, acc_dt,acc_svm,acc_knn]\n",
        "    \n",
        "plt.bar(x_pos, accuracies1, align='center', alpha=0.5, color='purple')\n",
        "plt.xticks(x_pos, predictors_group, rotation='vertical')\n",
        "plt.ylabel('Accuracy (%)')\n",
        "plt.title('Classifier Accuracies')\n",
        "plt.show()"
      ],
      "execution_count": 32,
      "outputs": [
        {
          "output_type": "display_data",
          "data": {
            "image/png": "[encoded data removed]",
            "text/plain": [
              "<Figure size 432x288 with 1 Axes>"
            ]
          },
          "metadata": {
            "tags": [],
            "needs_background": "light"
          }
        }
      ]
    },
    {
      "cell_type": "code",
      "metadata": {
        "colab": {
          "base_uri": "https://localhost:8080/"
        },
        "id": "MdyxWEB21qcl",
        "outputId": "206f5657-61ad-498e-efc4-e0f3a4f0c09d"
      },
      "source": [
        "#printing top three accuracies\n",
        "\n",
        "print('Decision Tree:', acc_dt,'%')\n",
        "print('Random Forest:', acc_rf,'%')\n",
        "print('GaussianNB:',acc_gnb,'%')"
      ],
      "execution_count": 33,
      "outputs": [
        {
          "output_type": "stream",
          "text": [
            "Decision Tree: 68.34 %\n",
            "Random Forest: 74.92 %\n",
            "GaussianNB: 71.16 %\n"
          ],
          "name": "stdout"
        }
      ]
    },
    {
      "cell_type": "code",
      "metadata": {
        "id": "Io0izS0a1w8V"
      },
      "source": [
        "# importing the model for prediction\n",
        "\n",
        "from sklearn.tree import DecisionTreeClassifier\n",
        "from sklearn.ensemble import RandomForestClassifier\n",
        "from sklearn.naive_bayes import GaussianNB\n",
        "\n",
        "# creating list of tuple wth model and its name  \n",
        "models = []\n",
        "models.append(('DT',DecisionTreeClassifier()))\n",
        "models.append(('RF',RandomForestClassifier()))\n",
        "models.append(('GNB',GaussianNB()))"
      ],
      "execution_count": 34,
      "outputs": []
    },
    {
      "cell_type": "code",
      "metadata": {
        "id": "J5mZQs2vH4jK",
        "colab": {
          "base_uri": "https://localhost:8080/"
        },
        "outputId": "28b75533-bd1e-4583-f21e-41d7a4d87a75"
      },
      "source": [
        "# Import Cross Validation \n",
        "from sklearn.model_selection import cross_val_score\n",
        "\n",
        "# simulate splitting a dataset of 1000 observations into 5 folds\n",
        "from sklearn.model_selection import KFold\n",
        "kf = KFold(n_splits=5, random_state=42, shuffle=True)\n",
        "kf.get_n_splits(X)\n",
        "# print(kf)\n",
        "\n",
        "acc = []   # All Algorithm/model accuracies\n",
        "names = []    # All model name\n",
        "\n",
        "for name, model in models:\n",
        "    \n",
        "    acc_of_model = cross_val_score(model, X_train, y_train, cv=kf, scoring='accuracy') # kFolds =5 without shuffling\n",
        "    \n",
        "    acc.append(acc_of_model) # appending Accuray of different model to acc List\n",
        "    \n",
        "    names.append(name)# appending name of models\n",
        "    Acc =name,round(acc_of_model.mean()*100,2) # printing Output \n",
        "    print(Acc)"
      ],
      "execution_count": 36,
      "outputs": [
        {
          "output_type": "stream",
          "text": [
            "('DT', 70.09)\n",
            "('RF', 78.57)\n",
            "('GNB', 66.56)\n"
          ],
          "name": "stdout"
        }
      ]
    },
    {
      "cell_type": "code",
      "metadata": {
        "id": "2WvAQUfbH7-s",
        "colab": {
          "base_uri": "https://localhost:8080/",
          "height": 390
        },
        "outputId": "e181c5e0-781d-4c62-9102-fc94d572a10d"
      },
      "source": [
        "# Plotting all accuracies together for comparison\n",
        "\n",
        "labels = ['Decision Tree', 'Random Forest','Gaussian NB']\n",
        "\n",
        "NoCV =[69.49 ,77.65,66.43] # accuracy before Cross Validation\n",
        "CV=[69.24, 75.14, 65.8] # accuracy after Cross Validation\n",
        "\n",
        "x = np.arange(len(labels))  # the label locations\n",
        "width = 0.25  # the width of the bars\n",
        "\n",
        "f, ax = plt.subplots(figsize=(8,6)) \n",
        "p1 = ax.bar(x - width/2, CV, width, label='After Cross Validation', color='purple')\n",
        "p2 = ax.bar(x + width/2, NoCV, width, label='Before Cross Validation', color='m')\n",
        "\n",
        "# Add some text for labels and title \n",
        "ax.set_ylabel('Accuracies')\n",
        "ax.set_title('Accuracy comparison')\n",
        "ax.set_xticks(x)\n",
        "plt.xticks()\n",
        "ax.set_xticklabels(labels)\n",
        "ax.legend(loc='top right')\n",
        "plt.show()"
      ],
      "execution_count": 37,
      "outputs": [
        {
          "output_type": "display_data",
          "data": {
            "image/png": "[encoded data removed]",
            "text/plain": [
              "<Figure size 576x432 with 1 Axes>"
            ]
          },
          "metadata": {
            "tags": [],
            "needs_background": "light"
          }
        }
      ]
    },
    {
      "cell_type": "code",
      "metadata": {
        "id": "qkjurp512Hek"
      },
      "source": [
        ""
      ],
      "execution_count": null,
      "outputs": []
    }
  ]
}